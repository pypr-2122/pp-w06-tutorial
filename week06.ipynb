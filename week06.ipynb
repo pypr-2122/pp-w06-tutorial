{
 "cells": [
  {
   "cell_type": "markdown",
   "metadata": {},
   "source": [
    "# Week 6 worksheet: More containers and sequences, comprehensions, and methods for problem-solving\n",
    "\n",
    "This week, we introduce **tuples** and **dictionaries**, two other types of *container* available in Python. We also introduce **comprehensions** as a concise way to create lists and other sequences. Finally, we look at an example of a recursive function, and we outline the different steps one should take to design an algorithm to solve a particular problem.\n",
    "\n",
    "The best way to learn programming is to write code. Don't hesitate to edit the code in the example cells, or add your own code, to test your understanding. You will find practice exercises throughout the notebook, denoted by 🚩 ***Exercise $x$:***.\n",
    "\n",
    "#### Displaying solutions\n",
    "\n",
    "Solutions will be released at the end of each week, as a new `.txt` file in the same GitHub repository. After pulling the file to your computer:\n",
    "- **Run this cell** to enable widgets:"
   ]
  },
  {
   "cell_type": "code",
   "execution_count": null,
   "metadata": {},
   "outputs": [],
   "source": [
    "from show_solutions import show"
   ]
  },
  {
   "cell_type": "markdown",
   "metadata": {},
   "source": [
    "- **Run the cell below each question** to create clickable buttons under each exercise, which will allow you to reveal the solutions.\n",
    "\n",
    "\n",
    "---\n",
    "## Tuples\n",
    "\n",
    "**Tuples** share similarities with lists; an important difference is that tuples are **immutable** --- that is, you cannot change its elements after it is defined. A tuple can be created by typing a sequence of values separated by a comma, surrounded by round brackets `(...)`. For example,\n",
    "```\n",
    "a = (4, 6, -2, 4, 0, 0)\n",
    "```\n",
    "We can access elements or subsequences of a tuple using indexing and slicing, just as for lists. Many of the functions and some of the operators we have used to operate on lists can also be used with tuples. For example:"
   ]
  },
  {
   "cell_type": "code",
   "execution_count": null,
   "metadata": {},
   "outputs": [],
   "source": [
    "a = (4, 6, -2, 4, 0, 0)     # A tuple of numbers\n",
    "b = ()                      # An empty tuple\n",
    "c = (2, 2, (-4, 5), 2)      # A nested tuple\n",
    "d = (0.1, 'that', 2)        # Tuples can also contain mixed data\n",
    "e = (8,)                    # A tuple with 1 element -- note the trailing comma!\n",
    "\n",
    "# We can nest tuples in lists...\n",
    "f = [(1, 2), (), e, ('this', 'maybe')]\n",
    "\n",
    "# ... and lists in tuples\n",
    "g = ([3, 4], [3], 0, [0.122, -0.1])\n",
    "\n",
    "# Indexing and slicing also work on tuples\n",
    "print('Indexing:')\n",
    "print(a[2:])\n",
    "print(g[3][0])\n",
    "print(f[:3])\n",
    "\n",
    "# Some functions we can use...\n",
    "print('\\nFunctions:')\n",
    "print(len(d))\n",
    "print(sorted(a))        # Note that sorted() still returns a list!\n",
    "print(tuple(sorted(a))) # Casting a list to a tuple\n",
    "print(list(d))          # Casting a tuple to a list\n",
    "\n",
    "# And some operators...\n",
    "print('\\nOperators:')\n",
    "print(d + c)\n",
    "print((2, -0.33) * 5)\n",
    "print(e in f)"
   ]
  },
  {
   "cell_type": "markdown",
   "metadata": {},
   "source": [
    "A useful feature is that variables can be **unpacked** from a tuple, meaning that we can, for example, assign the value of each element in a tuple to a different variable, in one line:"
   ]
  },
  {
   "cell_type": "code",
   "execution_count": null,
   "metadata": {},
   "outputs": [],
   "source": [
    "u, v, w = (3.4, 1, 'friday')\n",
    "print(f'{u}, {w}')\n",
    "\n",
    "# Swap 2 values\n",
    "u, w = w, u\n",
    "print(f'{u}, {w}')"
   ]
  },
  {
   "cell_type": "markdown",
   "metadata": {},
   "source": [
    "This is what you do when you write a function which returns multiple output values -- in reality, it returns one tuple containing the output values.\n",
    "\n",
    "---\n",
    "**Note:** Lists, tuples, and strings are examples of **sequences**, meaning that their elements (for a `str`, its characters) are *ordered*, and indexed by a number representing their position. Index slicing can also be used on any sequence type.\n",
    "\n",
    "---\n",
    "**📚 Learn more:**\n",
    "* [Tuples and Sequences - Python 3.7 documentation](https://docs.python.org/3/tutorial/datastructures.html?highlight=lists#tuples-and-sequences)\n",
    "* [Sequence types: list, tuple, range - Python 3.7 documentation](https://docs.python.org/3/library/stdtypes.html#sequence-types-list-tuple-range)\n",
    "---\n",
    "\n",
    "\n",
    "## Dictionaries\n",
    "\n",
    "A Python **dictionary** is a set of ***key-value* pairs**. Each value is indexed by a distinct key, which may be a number, a string, or a tuple of numbers or strings. (In contrast, each value in a list or a tuple is indexed by a positive integer, corresponding to its position.) Dictionary values can be any object (e.g. numbers, sequences, booleans, even other nested dictionaries).\n",
    "\n",
    "A dictionary can be created from a comma-separated list of `key: value` pairs, surrounded by curly brackets `{}`, for example"
   ]
  },
  {
   "cell_type": "code",
   "execution_count": null,
   "metadata": {},
   "outputs": [],
   "source": [
    "scores = {'Alice': 80, 'Bob': 64, 'Charlie': 72}\n",
    "print(scores['Bob'])"
   ]
  },
  {
   "cell_type": "markdown",
   "metadata": {},
   "source": [
    "<div style=\"width:70%;margin:auto;\">\n",
    "\n",
    "| `scores = {'Alice': 80, 'Bob': 64, 'Charlie': 72}` |\n",
    "|:--:|\n",
    "| ![The dictionary scores in memory](graphics/dict.png) |\n",
    "\n",
    "</div>\n",
    "\n",
    "Dictionaries are useful to hold data which it doesn't make sense to index by number -- here, for example, it's much easier to keep track of the students' grades if they're indexed with their name, instead of some arbitrary integer number.\n",
    "\n",
    "The following *dictionary methods* allow you to access the elements of a dictionary in different ways. Make sure to run the cell above beforehand to define the `scores` dictionary."
   ]
  },
  {
   "cell_type": "code",
   "execution_count": null,
   "metadata": {},
   "outputs": [],
   "source": [
    "print(scores)                # Print the dictionary object\n",
    "print(list(scores.items()))  # Print dict items as a list of tuples\n",
    "print(list(scores.keys()))   # Print all keys in a list\n",
    "print(list(scores.values())) # Print all values in a list"
   ]
  },
  {
   "cell_type": "markdown",
   "metadata": {},
   "source": [
    "We can add and modify dictionary entries, or check whether a *key* exists in a dictionary:"
   ]
  },
  {
   "cell_type": "code",
   "execution_count": null,
   "metadata": {},
   "outputs": [],
   "source": [
    "# Create an empty dictionary\n",
    "my_dict = {}\n",
    "\n",
    "# Add 3 new items -- note that we don't need to append with dictionaries\n",
    "my_dict['First item'] = (4, 5)\n",
    "my_dict['Second item'] = 'blue'\n",
    "my_dict[(0, 1)] = True\n",
    "print(my_dict)\n",
    "print(len(my_dict))\n",
    "\n",
    "# Modify one item\n",
    "my_dict['Second item'] = 8.77\n",
    "print(my_dict)\n",
    "\n",
    "# Check if a key (not a value!) exists in the dictionary\n",
    "print((0, 1) in my_dict)\n",
    "print((4, 5) in my_dict)"
   ]
  },
  {
   "cell_type": "markdown",
   "metadata": {},
   "source": [
    "---\n",
    "**📚 Learn more:**\n",
    "* [Dictionaries - Python 3.7 documentation](https://docs.python.org/3/tutorial/datastructures.html?highlight=lists#dictionaries) - introduction and some examples.\n",
    "* [Mapping types - Dictionary - Python 3.7 documentation](https://docs.python.org/3/library/stdtypes.html#typesmapping) - includes a list of operations which dictionaries support.\n",
    "---\n",
    "\n",
    "🚩 ***Exercise 1:*** The dictionary `grades` below contains the grades that 3 students, Alice, Bob, and Charlie, obtained so far this semester in their school subjects. Complete the code (without touching the first 3 lines!) to:\n",
    "- update Alice's maths grade to a B, and\n",
    "- add a new C grade in English for Charlie,\n",
    "- add grades for a new student, Dara, with a B in maths and a D in history."
   ]
  },
  {
   "cell_type": "code",
   "execution_count": null,
   "metadata": {},
   "outputs": [],
   "source": [
    "grades = {'Alice': {'maths': 'A', 'english': 'C', 'music': 'B'},\n",
    "          'Bob': {'maths': 'C', 'english': 'A', 'history': 'A'},\n",
    "          'Charlie': {'physics': 'D', 'music': 'A', 'biology': 'A'}}\n",
    "\n"
   ]
  },
  {
   "cell_type": "code",
   "execution_count": null,
   "metadata": {
    "tags": [
     "solution_cell"
    ]
   },
   "outputs": [],
   "source": [
    "show('week06_ex1')"
   ]
  },
  {
   "cell_type": "markdown",
   "metadata": {},
   "source": [
    "#### Looping over dictionaries\n",
    "\n",
    "A convenient way to loop over a dictionary uses the `.items()` method to return a list of tuples."
   ]
  },
  {
   "cell_type": "code",
   "execution_count": null,
   "metadata": {},
   "outputs": [],
   "source": [
    "months_length = {'January': 31, 'February': 28, 'March': 31 ,'April': 30,\n",
    "                 'May': 31 ,'June': 30, 'July': 31, 'August': 31, 'September': 30,\n",
    "                 'October': 31, 'November': 30, 'December': 31}\n",
    "\n",
    "out = 'The months of '\n",
    "\n",
    "for month, duration in months_length.items():\n",
    "    if duration == 31:\n",
    "        out = out + month + ', '\n",
    "\n",
    "out = out + 'have 31 days.'\n",
    "print(out)"
   ]
  },
  {
   "cell_type": "markdown",
   "metadata": {},
   "source": [
    "---\n",
    "🚩 ***Exercise 2:*** Build a new dictionary `grades_by_subject` by looping over `grades` (from Exercise 3), where the keys are the different subjects in `grades` and the values are nested dictionaries, where the keys are the students' names and the values are the grades."
   ]
  },
  {
   "cell_type": "code",
   "execution_count": null,
   "metadata": {},
   "outputs": [],
   "source": []
  },
  {
   "cell_type": "code",
   "execution_count": null,
   "metadata": {
    "tags": [
     "solution_cell"
    ]
   },
   "outputs": [],
   "source": [
    "show('week06_ex2')"
   ]
  },
  {
   "cell_type": "markdown",
   "metadata": {},
   "source": [
    "---\n",
    "\n",
    "## Comprehensions\n",
    "\n",
    "Comprehensions are a nice feature of Python not found in many other languages. In a sense they are a combination of sequence, for loop and if statement. They allow us to construct a new sequence from an old sequence, doing some operation for each element of the original sequence. Here is an example:"
   ]
  },
  {
   "cell_type": "code",
   "execution_count": null,
   "metadata": {},
   "outputs": [],
   "source": [
    "square_numbers = [1,4,9,16,25]\n",
    "square_plus1 = [x+1 for x in square_numbers]\n",
    "print(square_plus1)"
   ]
  },
  {
   "cell_type": "markdown",
   "metadata": {},
   "source": [
    "The general syntax for **list comprehensions** is \n",
    "\n",
    "```python\n",
    "[expression for item in seq if condition]                   # if\n",
    "[expression1 if condition else expression2 for item in seq] # if-else\n",
    "```\n",
    "\n",
    "You can also use comprehensions for building other sequences -- dictionaries, tuples, etc. Comprehensions can make your code more compact and readable.\n",
    "\n",
    "---\n",
    "**📚 Learn more:**\n",
    "\n",
    "- [List comprehensions](https://docs.python.org/3/tutorial/datastructures.html#list-comprehensions)\n",
    "- [Displays for lists, sets and dictionaries](https://docs.python.org/3/reference/expressions.html#displays-for-lists-sets-and-dictionaries)\n",
    "\n",
    "---\n",
    "🚩 ***Exercise 3:*** Try to write the following loop in one line with a list comprehension."
   ]
  },
  {
   "cell_type": "code",
   "execution_count": null,
   "metadata": {},
   "outputs": [],
   "source": [
    "#  In the sequence n**2+3 for n = 50 to 100, find the numbers which are divisors of 6\n",
    "factors6 = []\n",
    "for n in range(50,101):\n",
    "    if (n**2 + 3) % 6 == 0:\n",
    "        factors6.append(n**2 + 3)\n",
    "        \n",
    "print(factors6)"
   ]
  },
  {
   "cell_type": "code",
   "execution_count": null,
   "metadata": {},
   "outputs": [],
   "source": []
  },
  {
   "cell_type": "code",
   "execution_count": null,
   "metadata": {},
   "outputs": [],
   "source": [
    "show('week06_ex3')"
   ]
  },
  {
   "cell_type": "markdown",
   "metadata": {},
   "source": [
    "---\n",
    "Comprehensions can be **nested** in one another as well. Look at the example below where the prime numbers less than 100 are generated with one nested list comprehension:"
   ]
  },
  {
   "cell_type": "code",
   "execution_count": null,
   "metadata": {},
   "outputs": [],
   "source": [
    "primes = [x for x in range(2,100) if not [t for t in range(2,x) if not x%t]]\n",
    "print(primes)"
   ]
  },
  {
   "cell_type": "markdown",
   "metadata": {},
   "source": [
    "- The inner comprehension builds a list of all the factors of `x`, since `not x%t` is `True` when `x` is divisible by `t`. It gives an empty list if `x` doesn't have any factors (i.e. if `x` is prime).\n",
    "- The outer comprehension builds a list by selecting the numbers `x` up to 100 for which the inner list is empty (since `not []` is `True`)-- i.e. the numbers `x` which are prime.\n",
    "\n",
    "Here is another example: building and flattening matrices using nested comprehensions."
   ]
  },
  {
   "cell_type": "code",
   "execution_count": null,
   "metadata": {},
   "outputs": [],
   "source": [
    "import numpy as np\n",
    "\n",
    "# Build the identity matrix\n",
    "I = np.array([[1 if i==j else 0 for i in range(4)] for j in range(4)])\n",
    "print(f'I =\\n{I}\\n')\n",
    "\n",
    "# Flatten a matrix to a list -- here, \"i\" is a list of the rows of A\n",
    "A = np.random.randint(1, 10, size=[3, 3])\n",
    "print(f'A =\\n{A}\\n')\n",
    "print([j for i in A for j in i])"
   ]
  },
  {
   "cell_type": "markdown",
   "metadata": {},
   "source": [
    "---\n",
    "🚩 ***Exercise 4:*** In one line, using comprehensions, create a list of all 24 possible (ordered) combinations of the characters `a`, `b`, `c` which are not triplets. For instance, you list should contain `'aab'` and `'cba'`, but not `'bbb'`."
   ]
  },
  {
   "cell_type": "code",
   "execution_count": null,
   "metadata": {},
   "outputs": [],
   "source": []
  },
  {
   "cell_type": "code",
   "execution_count": null,
   "metadata": {},
   "outputs": [],
   "source": [
    "show('week06_ex4')"
   ]
  },
  {
   "cell_type": "markdown",
   "metadata": {},
   "source": [
    "---\n",
    "## Designing algorithms\n",
    "\n",
    "### Recursion\n",
    "\n",
    "Recursion is a technical name for a procedure or function that **calls itself** in order to provide an answer. We are already quite familiar with the idea of a *recursion relation* in mathematics, and this is really a very similar concept.\n",
    "\n",
    "To illustrate it, here is a reasonable simple recursion relation to define the factorial operation:\n",
    "$$\n",
    "n! = \\left\\{ \\begin{array}{cc}\n",
    "1, \\qquad & \\textrm{if}\\,\\, n=0 \\\\\n",
    "n\\cdot (n-1)! \\qquad& \\textrm{otherwise}\n",
    "\\end{array}\\right.\n",
    "$$\n",
    "\n",
    "Here is how we would program that using a recursive function:"
   ]
  },
  {
   "cell_type": "code",
   "execution_count": null,
   "metadata": {},
   "outputs": [],
   "source": [
    "def factorial(n):\n",
    "    '''\n",
    "    Calculate n! = 1 x 2 x 3 x ... x (n-1) x n for a positive integer n, using a recursive method.\n",
    "    We use the fact that n! = n x (n-1)!.\n",
    "    '''\n",
    "    if n == 0:\n",
    "        print('We got to the bottom... Returning 0! = 1')\n",
    "        return 1\n",
    "    else:\n",
    "        # Here, we call the function itself back with a different argument\n",
    "        print(f'Returning {n} x {n-1}!')\n",
    "        return n * factorial(n-1)\n",
    "\n",
    "print(factorial(5))\n",
    "\n",
    "import math\n",
    "print(math.factorial(5))"
   ]
  },
  {
   "cell_type": "markdown",
   "metadata": {},
   "source": [
    "Note that, just like in the mathematical expression, we need to specify the initial value explicitly -- otherwise, we would go on forever! Also note that although the output looks like there is a loop somewhere, there isn't -- it's simply the recursive function calling itself over and over until it \"bottoms out\" and finds the initial value. Then, it can \"chain-return\" all these values all the way up to the top again. This is how the return value is computed with the input `3`:\n",
    "\n",
    "```python\n",
    "3 * fac(2)\n",
    "3 * (2 * fac(1))\n",
    "3 * (2 * (1 * fac(0)))   # here, we've bottomed out!\n",
    "3 * (2 * (1 * 1))\n",
    "3 * (2 * 1)\n",
    "3 * 2\n",
    "6\n",
    "```\n",
    "\n",
    "\n",
    "Recursion is an important tool in the Computer Science toolkit as a way to solve problems. Many problems have a simple solution by regarding them as recursive problems, and using a recursive function to solve them (8 Queens problem, Towers of Hanoi, finding greatest common divisor, etc).\n",
    "\n",
    "---\n",
    "🚩 ***Exercise 5:*** Write a **recursive** function `fib_rec()` which takes 3 input arguments:\n",
    "- a positive integer `p`,\n",
    "- a positive integer `q`,\n",
    "- a positive integer `n` greater than 2,\n",
    "\n",
    "and returns the `n`th element of the $(p,q)$-Fibonacci sequence $F(n)$ from the Week 2 workshop, defined by:\n",
    "\n",
    "$$\n",
    "F(1) = F(2) = 1,\\\\\n",
    "F(n) = p F(n-1) + q F(n-2), \\quad\\textrm{for}\\,\\, n > 2.\n",
    "$$\n",
    "\n",
    "Test your function:\n",
    "- `fib_rec(1, 1, 15)` should return `610`\n",
    "- `fib_rec(6, 4, 10)` should return `5330944`\n",
    "- `fib_rec(2, 1, 35)` should return `5168247530883`"
   ]
  },
  {
   "cell_type": "code",
   "execution_count": null,
   "metadata": {},
   "outputs": [],
   "source": []
  },
  {
   "cell_type": "code",
   "execution_count": null,
   "metadata": {},
   "outputs": [],
   "source": [
    "show('week06_ex5')"
   ]
  },
  {
   "cell_type": "markdown",
   "metadata": {},
   "source": [
    "You will notice that the last test takes quite a long time to evaluate. This is because for each call to the function, we generate 2 more calls back to the function. For each of these, there is an overhead in the computer -- for recursive methods to be efficient, these calls back to the function have to be well optimized by the language you use.\n",
    "\n",
    "Sadly, Python is not good at optimising recursive functions, and so particularly where there are several calls back to the function they run **very slowly in Python** if at all. It is best to stick with using recursion only for quite simple problems -- it is not a structure that you should rely on in Python.\n",
    "\n",
    "---\n",
    "### A process for problem-solving\n",
    "\n",
    "You have probably realised by now that learning programming is not just learning a language -- it's also learning to translate a mathematical or operational problem into a computational one. This ability is usually called *computational thinking*, and you will continue to develop it as you practise solving complex problems with Python.\n",
    "\n",
    "The section \"How to Design Algorithms\" of [The Algorithm Design Manual](https://www8.cs.umu.se/kurser/TDBA77/VT06/algorithms/BOOK/BOOK3/NODE124.HTM#SECTION02700000000000000000) provides great problem-solving advice, as well as a detailed checklist designed to guide you through this translation process. Here are the important points on that checklist, to check in order:\n",
    "\n",
    "- What is the **end goal** of the problem? What should the final result look like?\n",
    "- What **data** do I have? What object **types** are best suited to store/handle which data?\n",
    "- What should the rough **structure** of the algorithm be? What essential techniques are needed – loops/decisions, for/while...\n",
    "- Can I break the problem down into **sub-tasks**?\n",
    "- Does it have a **recursive** structure – can I do a little bit of it, and leave myself with a problem that looks almost the same?\n",
    "- How do I know when I get an answer – can I check the answer? (sometimes answers that are hard to get are easy to check!)\n",
    "\n",
    "It is always a good idea to start with (or go back to) **pen and paper**, before trying to write any code. Work out the maths, compute a small known example by hand to check your results, draw pictures and diagrams to help you visualise the problem and/or what your algorithm is doing...\n",
    "\n",
    "#### Computational problem-solving in 7 steps\n",
    "\n",
    "Computing educators in Duke University have outlined a **7-step guide to problem-solving**, which can be a very useful tool to work through a computing problem. [The 7 steps are described in this poster](https://adhilton.pratt.duke.edu/sites/adhilton.pratt.duke.edu/files/u37/iticse-7steps.pdf) -- I highly recommend that you read through it, and come back to it when you get stuck on a complex problem.\n",
    "\n",
    "Note, in particular, that by following these steps, you should only start writing code in **step 5 of 7**!\n",
    "\n",
    "---\n",
    "**📚 Learn more:**\n",
    "* [Problem solving and algorithms](http://sofia.cs.vt.edu/cs1114-ebooklet/chapter4.html) - This is a great resource, walking through the different steps of designing of an algorithm to solve a problem. The implementation is done with Java, not Python, but the steps and the principles are the same -- for practice, you could try to implement it in Python.\n",
    "* [The Algorithm Design Manual](https://www8.cs.umu.se/kurser/TDBA77/VT06/algorithms/BOOK/BOOK/BOOK.HTM) - The source cited above -- a very complete online book on algorithm design.\n",
    "\n",
    "---\n",
    "### Problem-solving example: the Post Office problem\n",
    "\n",
    "The [Post Office problem](https://en.wikipedia.org/wiki/Nearest_neighbor_search) is a nearest-neighbour search problem. Here is a related exercise:\n",
    "\n",
    "> Consider a $5\\times 5$km square city, with $n$ post offices scattered at different (known) locations, and all roads are laid out in a grid. Produce a map to help the residents find the post office within the shortest walking distance from any point in the city.\n",
    "\n",
    "You are given the following function to create the $n$ post offices at random locations. Run the cell to add it to the namespace."
   ]
  },
  {
   "cell_type": "code",
   "execution_count": null,
   "metadata": {},
   "outputs": [],
   "source": [
    "import numpy as np\n",
    "\n",
    "def create_POs(n):\n",
    "    '''\n",
    "    Create random coordinates for n post offices in the city.\n",
    "    \n",
    "    Input: n (int), the total number of POs.\n",
    "    Output: POs (ndarray), random array of size nx2, each row giving\n",
    "        the (x, y) coordinates for one post office.\n",
    "    '''\n",
    "    # Initialise our random number generator\n",
    "    rng = np.random.default_rng()\n",
    "\n",
    "    # Produce a random array of floats between 0.2 and 4.8 (not too close to city borders)\n",
    "    POs = 0.2 + 4.6*rng.random(size=[n, 2])\n",
    "    return POs"
   ]
  },
  {
   "cell_type": "markdown",
   "metadata": {},
   "source": [
    "Let's have a look at these post offices to get a better idea of what we're working with. It's always a good idea to visualise your data or results."
   ]
  },
  {
   "cell_type": "code",
   "execution_count": null,
   "metadata": {},
   "outputs": [],
   "source": [
    "import matplotlib.pyplot as plt\n",
    "\n",
    "# Create 10 post offices\n",
    "n = 10\n",
    "POs = create_POs(n)\n",
    "\n",
    "# Plot their location\n",
    "fig, ax = plt.subplots(figsize=(8, 8))\n",
    "ax.plot(POs[:, 0], POs[:, 1], 'k*', markersize=15)\n",
    "ax.set_xlim([0, 5])\n",
    "ax.set_ylim([0, 5])\n",
    "plt.show()"
   ]
  },
  {
   "cell_type": "markdown",
   "metadata": {},
   "source": [
    "#### Designing the algorithm\n",
    "\n",
    "Now, the solution -- let's go through the checklist to tackle this problem:\n",
    "\n",
    "- What is the **end goal** of the problem? What should the final result look like?\n",
    "\n",
    "    - We need to make a map of the city.\n",
    "    - Anyone consulting the map should be able to easily choose a post office to walk to.\n",
    "    - We could divide our city map into different areas, to represent the \"catchment areas\" of each post office.\n",
    "\n",
    "- What **data** do I have? What object **types** are best suited to store/handle which data?\n",
    "\n",
    "    - We have the locations of the $n$ post offices on a map (their $(x, y)$ coordinates).\n",
    "    - We know the size and shape of the map (a $5\\times 5$km square).\n",
    "    - We know that all the roads are laid out in a grid, which means that the shortest walking distance from one point to another can be calculated using the [Manhattan distance](https://en.wikipedia.org/wiki/Taxicab_geometry) metric. Numpy has the `np.linalg.norm()` function to help us calculate this, so it may be a good idea to use Numpy arrays to store the coordinate data.\n",
    "\n",
    "- What should the rough **structure** of the algorithm be? What essential techniques are needed – loops/decisions, for/while...\n",
    "    \n",
    "    - One way to produce the map could be to simulate lots of residents at random places in the city, and to find the nearest post office for all of them. We could indicate the nearest post office for each simulated resident with a different colour. (Other algorithms do exist to separate the space into [Voronoi cells](https://en.wikipedia.org/wiki/Voronoi_diagram), but here we choose an approximation/simulation approach.)\n",
    "    - We will need to generate random $(x, y)$ coordinates for all the residents -- `np.random` can help with that.\n",
    "    - We will need to calculate Manhattan distances between points -- again, `np.linalg.norm()` will help. We can loop over each resident and each post office to get all the possible distances.\n",
    "    - We will need to find the closest post office for each resident -- `np.argmin()` can find the index of the smallest value in an array. We can use it to find which post office corresponds to the shortest distance for each resident.\n",
    "    - We will need to display a map -- `matplotlib` will be useful. We'll need to find a way to pick $n$ different colours to draw each cluster of points -- we'll probably have to loop over the post offices to do this.\n",
    "\n",
    "- Can I break the problem down into **sub-tasks**?\n",
    "\n",
    "    - Simulate a fairly large population of residents.\n",
    "    - Calculate the distance between a resident and a post office.\n",
    "    - Find the closest post office for a resident.\n",
    "    - Plot the locations of each post office, and each resident with a colour corresponding to the nearest PO.\n",
    "\n",
    "- Does it have a **recursive** structure – can I do a little bit of it, and leave myself with a problem that looks almost the same?\n",
    "\n",
    "    - No, it doesn't. Here, we need to calculate different distances for all the different residents.\n",
    "    \n",
    "- How do I know when I get an answer – can I check the answer? (sometimes answers that are hard to get are easy to check!)\n",
    "\n",
    "    - We can calculate the distance between a resident and all the post offices, find the shortest one, and keep track of the corresponding post office.\n",
    "    - The final map should help us check that our method is at least roughly correct. We should see clearly defined clusters around each post office, each with a different colour.\n",
    "\n",
    "#### Implementation in Python\n",
    "\n",
    "Now, let's solve our problem, step by step: first, let's write a function to create a city population. We want the residents to be uniformly distributed over the map, so that we get good coverage. Remember to **test at every step** to make sure that you are on the right track -- it will be much easier to find problems if you **test often**!"
   ]
  },
  {
   "cell_type": "code",
   "execution_count": null,
   "metadata": {},
   "outputs": [],
   "source": [
    "def make_residents(pop):\n",
    "    '''\n",
    "    Creates a uniformly distributed population of city\n",
    "    residents on the map.\n",
    "    \n",
    "    Input: pop (int): positive integer, number of residents (population).\n",
    "    \n",
    "    Output: residents (ndarray): Numpy array with pop rows\n",
    "            and 2 columns, each row is the (x, y) coordinates\n",
    "            of 1 resident.\n",
    "    '''\n",
    "    rng = np.random.default_rng()\n",
    "    \n",
    "    # Create random (x, y) coordinates for \"pop\" residents, between 0 and 5\n",
    "    residents = 5 * rng.random(size=[pop, 2])\n",
    "    return residents\n",
    "\n",
    "# A quick test to check that everything looks good for now\n",
    "print(make_residents(5))"
   ]
  },
  {
   "cell_type": "markdown",
   "metadata": {
    "tags": [
     "solution_cell"
    ]
   },
   "source": [
    "Next, calculate the Manhattan distance between a resident and a post office. This is the same as the 1-norm of the vector between the 2 points (resident and PO), and we already have a function to do that: [`np.linalg.norm()`](https://numpy.org/doc/stable/reference/generated/numpy.linalg.norm.html?highlight=norm#numpy.linalg.norm). The documentation tells us to specify that we want the 1-norm using the `ord=` keyword argument.\n",
    "\n",
    "So if `res` is a Numpy array with 2 elements representing the $(x_r, y_r)$ location of a resident, and `po` is also an array representing the $(x_{po}, y_{po})$ location of a post office, the command\n",
    "```python\n",
    "np.linalg.norm(res - po, ord=1)\n",
    "```\n",
    "should let us compute the Manhattan distance\n",
    "$$\n",
    "d_1 = \\left|x_r - x_{po}\\right| + \\left|y_r - y_{po}\\right|.\n",
    "$$\n",
    "\n",
    "Now, to get all the distances between all the residents and all the post offices, we can use 2 nested loops: one over the post offices and one over the residents. We need to store all these distances: each resident will have $n$ distances, one to each post office. Our data structure could look like this:\n",
    "\n",
    "\n",
    "| | Dist. to PO 1 | Dist. to PO 2 | Dist. to PO 3 | ... | Dist. to PO $n$ |\n",
    "|--|--|--|--|--|--|\n",
    "| Resident 1 | | | | | |\n",
    "| Resident 2 | | | | | |\n",
    "| Resident 3 | | | | | |\n",
    "| ... | | | | | |\n",
    "\n",
    "Finally, once we have all the distances, we need to find (for each person) which post office is the closest. If we use a NumPy array structure as above, we can use `np.argmin()` to find the index of the smallest distance for each row, which will give us the post office closest to that resident."
   ]
  },
  {
   "cell_type": "code",
   "execution_count": null,
   "metadata": {},
   "outputs": [],
   "source": [
    "def nearest_PO(residents, POs):\n",
    "    '''\n",
    "    Finds the closest post office to all residents.\n",
    "    \n",
    "    Input:\n",
    "        residents (ndarray): array with \"pop\" rows and 2 columns,\n",
    "            each row is the (x, y) coordinates of 1 resident.\n",
    "        POs (ndarray): array with 2 columns, each row is the (x, y)\n",
    "            coordinates of a post office.\n",
    "    \n",
    "    Output:\n",
    "        closest (ndarray): index of the closest post office to each resident,\n",
    "            in terms of Euclidean distance.\n",
    "    '''\n",
    "    # Prepare a list of lists to store all distances\n",
    "    distances = []\n",
    "    \n",
    "    # Loop over post offices\n",
    "    for po in POs:\n",
    "        dist_po = []\n",
    "        # Loop over residents\n",
    "        for res in residents:\n",
    "            # Get the 2-norm of each vector between a resident and a PO\n",
    "            dist_po.append(np.linalg.norm(res - po, ord=1))\n",
    "        \n",
    "        # Add the list of distances for all residents to that PO\n",
    "        distances.append(dist_po)\n",
    "    \n",
    "    # Convert our list of lists to a NumPy array (transpose it)\n",
    "    distances = np.array(distances).T\n",
    "    \n",
    "    # Return the index of the nearest PO, along each row of the array (find the min for each resident)\n",
    "    closest = np.argmin(distances, axis=1)\n",
    "    return closest"
   ]
  },
  {
   "cell_type": "markdown",
   "metadata": {},
   "source": [
    "How can we test this function? It's not very straightforward to test this alone -- let's first make our map-drawing function, as this will give us a way to visualise the results.\n",
    "\n",
    "We can plot each resident in the same colour if they have the same closest post office. We can use Boolean indexing to decide which residents to plot a certain colour -- this will be *a lot faster* than drawing every point separately with a big loop!\n",
    "\n",
    "We will loop over each post office, and draw all the residents with one command for that post office. We'll need to pick a different colour for each PO -- we could choose our colours in advance, and create a list of strings to use it in our call to `.plot()`. Alternatively, we can get a [`colormap` object from matplotlib](https://matplotlib.org/3.1.1/gallery/color/colormap_reference.html), and just pick a colour somewhere along that gradient as we loop over the post offices."
   ]
  },
  {
   "cell_type": "code",
   "execution_count": null,
   "metadata": {},
   "outputs": [],
   "source": [
    "def draw_PO_map(residents, POs):\n",
    "    '''\n",
    "    Display the nearest post office on the map for a population\n",
    "    of residents, in different colours.\n",
    "    \n",
    "    Input:\n",
    "        residents (ndarray): array with \"pop\" rows and 2 columns,\n",
    "            each row is the (x, y) coordinates of 1 resident.\n",
    "        POs (ndarray): array with n rows and 2 columns, each row\n",
    "            is the (x, y) coordinates of 1 post office.\n",
    "    \n",
    "    Output: None\n",
    "    '''\n",
    "    # Get population size\n",
    "    pop = residents.shape[0]\n",
    "    \n",
    "    # Set up a figure\n",
    "    fig, ax = plt.subplots(figsize=(8, 8))\n",
    "    ax.set_aspect('equal')\n",
    "    ax.set_xlim([0, 5])\n",
    "    ax.set_ylim([0, 5])\n",
    "    \n",
    "    # Make a colour map for the post offices\n",
    "    colour_map = plt.get_cmap('gist_rainbow')\n",
    "    colours = []\n",
    "    n = POs.shape[0]\n",
    "    for c in range(n):\n",
    "        # Extract one colour, a fraction of the way into the colour map.\n",
    "        # colour_map(0) gives us the leftmost colour in the 'gist_rainbow' map,\n",
    "        # colour_map(1) gives us the rightmost colour.\n",
    "        colours.append(colour_map(c/n))\n",
    "\n",
    "    # Find the nearest PO for each resident, using the function we made earlier\n",
    "    closest = nearest_PO(residents, POs)\n",
    "    \n",
    "    # Draw each cluster of residents with a different colour\n",
    "    for po in range(n):\n",
    "        # Boolean indexing: extract the rows (the residents) for whom \"closest\" is the current post office\n",
    "        x = residents[closest == po, 0]\n",
    "        y = residents[closest == po, 1]\n",
    "        ax.plot(x, y, '.', color=colours[po], markersize=8)\n",
    "    \n",
    "    # Draw markers for each post office\n",
    "    ax.plot(POs[:, 0], POs[:, 1], 'k*', markersize=15)\n",
    "    plt.show()"
   ]
  },
  {
   "cell_type": "markdown",
   "metadata": {},
   "source": [
    "#### The moment of truth!\n",
    "\n",
    "Let's use all our functions to solve the task now -- finally!"
   ]
  },
  {
   "cell_type": "code",
   "execution_count": null,
   "metadata": {},
   "outputs": [],
   "source": [
    "# Decide how many residents we want, and create them\n",
    "pop = 10000\n",
    "residents = make_residents(pop)\n",
    "\n",
    "# Open our post offices across the city\n",
    "n = 30\n",
    "POs = create_POs(n)\n",
    "\n",
    "# Now, draw the map!\n",
    "draw_PO_map(residents, POs)"
   ]
  },
  {
   "cell_type": "markdown",
   "metadata": {},
   "source": [
    "That seems to work! 🎉\n",
    "\n",
    "This is not the only way to do this, or even to structure your code for this particular solution. You could build your loops the other way around in `nearest_PO()` for example, or even not use loops at all.\n",
    "\n",
    "---\n",
    "🚩 ***Exercise 6:*** Some ideas you could investigate -- the solution for the last question will be released.\n",
    "\n",
    "- You can try changing the number of post offices to see the influence on the results. Remember that the post office locations are created randomly, so you'll get a different map every time.\n",
    "\n",
    "- You can also try changing the Manhattan distance to the Euclidean distance (the 2-norm), and observe the results. This would be fine to use if your residents could fly, for example -- it's the direct path which doesn't require them to use the roads. The choice of distance metric could be an input parameter to your function `nearest_PO()`.\n",
    "\n",
    "- With the Euclidean distance, you should get the [Voronoi tesselation](https://en.wikipedia.org/wiki/Voronoi_diagram). Try to use SciPy to [draw the actual Voronoi diagram](https://docs.scipy.org/doc/scipy/reference/generated/scipy.spatial.voronoi_plot_2d.html) on top of your simulation results here -- the boundaries should match!\n",
    "\n",
    "- If the population was uniformly distributed on the map like this, assuming that the average person walks at a speed of around 5km per hour, can you *estimate* (and visualise) the average time it takes a resident to walk to the nearest post office, as a function of the total number $n$ of post offices in the city? Estimate this with the simulation results, not analytically."
   ]
  },
  {
   "cell_type": "code",
   "execution_count": null,
   "metadata": {},
   "outputs": [],
   "source": []
  },
  {
   "cell_type": "code",
   "execution_count": null,
   "metadata": {},
   "outputs": [],
   "source": [
    "show('week06_ex6')"
   ]
  }
 ],
 "metadata": {
  "kernelspec": {
   "display_name": "Python 3",
   "language": "python",
   "name": "python3"
  },
  "language_info": {
   "codemirror_mode": {
    "name": "ipython",
    "version": 3
   },
   "file_extension": ".py",
   "mimetype": "text/x-python",
   "name": "python",
   "nbconvert_exporter": "python",
   "pygments_lexer": "ipython3",
   "version": "3.7.6"
  }
 },
 "nbformat": 4,
 "nbformat_minor": 4
}
